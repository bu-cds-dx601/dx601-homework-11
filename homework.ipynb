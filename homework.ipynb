{
 "cells": [
  {
   "cell_type": "markdown",
   "metadata": {},
   "source": [
    "# DX 601 Week 11 Homework"
   ]
  },
  {
   "cell_type": "markdown",
   "metadata": {},
   "source": [
    "## Introduction\n",
    "\n",
    "In this homework, you will practice working with systems of linear equations and review previous weeks' material."
   ]
  },
  {
   "cell_type": "markdown",
   "metadata": {},
   "source": [
    "## Example Code\n",
    "\n",
    "You may find it helpful to refer to this GitHub repository of Jupyter notebooks for example code.\n",
    "\n",
    "* https://github.com/bu-cds-omds/dx500-examples\n",
    "* https://github.com/bu-cds-omds/dx601-examples\n",
    "* https://github.com/bu-cds-omds/dx602-examples\n",
    "\n",
    "Any calculations demonstrated in code examples or videos may be found in these notebooks, and you are allowed to copy this example code in your homework answers."
   ]
  },
  {
   "cell_type": "markdown",
   "metadata": {},
   "source": [
    "## Submission\n",
    "\n",
    "To submit your homework, take the following steps.\n",
    "\n",
    "1. Save and commit this notebook.\n",
    "2. Push your changes to GitHub.\n",
    "3. Confirm that your changes are visible in GitHub.\n",
    "4. Delete the codespace to avoid wasting your free quota.\n",
    "\n",
    "The auto-grading process usually completes within a few minutes of pushing to GitHub, but occasionally can take several minutes to an hour.\n",
    "If you submit your homework early enough, you may review the auto-grading results and fix any mistakes before the deadline.\n"
   ]
  },
  {
   "cell_type": "markdown",
   "metadata": {},
   "source": [
    "## Shared Imports\n",
    "\n",
    "Do not install or use any additional modules.\n",
    "Installing additional modules may result in an autograder failure resulting in zero points for some or all problems."
   ]
  },
  {
   "cell_type": "code",
   "execution_count": 15,
   "metadata": {},
   "outputs": [],
   "source": [
    "import math\n",
    "import sys"
   ]
  },
  {
   "cell_type": "code",
   "execution_count": 71,
   "metadata": {},
   "outputs": [],
   "source": [
    "import matplotlib.pyplot as plt\n",
    "import numpy as np\n",
    "import pandas as pd\n",
    "import scipy.stats\n",
    "import sklearn.linear_model"
   ]
  },
  {
   "cell_type": "markdown",
   "metadata": {},
   "source": [
    "## Shared Data"
   ]
  },
  {
   "cell_type": "markdown",
   "metadata": {},
   "source": [
    "### Vineyard Data\n",
    "\n",
    "This data set attempts to predict yields for a small vineyard in Lake Erie in 1991 based on the yields in the previous years.\n",
    "Each row of the data set represents the yields of a row of the vineyard.\n",
    "See https://github.com/EpistasisLab/pmlb/blob/master/datasets/192_vineyard/metadata.yaml for more information."
   ]
  },
  {
   "cell_type": "code",
   "execution_count": 36,
   "metadata": {},
   "outputs": [
    {
     "data": {
      "text/html": [
       "<div>\n",
       "<style scoped>\n",
       "    .dataframe tbody tr th:only-of-type {\n",
       "        vertical-align: middle;\n",
       "    }\n",
       "\n",
       "    .dataframe tbody tr th {\n",
       "        vertical-align: top;\n",
       "    }\n",
       "\n",
       "    .dataframe thead th {\n",
       "        text-align: right;\n",
       "    }\n",
       "</style>\n",
       "<table border=\"1\" class=\"dataframe\">\n",
       "  <thead>\n",
       "    <tr style=\"text-align: right;\">\n",
       "      <th></th>\n",
       "      <th>lugs_1989</th>\n",
       "      <th>lugs_1990</th>\n",
       "      <th>target</th>\n",
       "    </tr>\n",
       "  </thead>\n",
       "  <tbody>\n",
       "    <tr>\n",
       "      <th>0</th>\n",
       "      <td>1.0</td>\n",
       "      <td>5.0</td>\n",
       "      <td>9.5</td>\n",
       "    </tr>\n",
       "    <tr>\n",
       "      <th>1</th>\n",
       "      <td>3.0</td>\n",
       "      <td>8.0</td>\n",
       "      <td>17.5</td>\n",
       "    </tr>\n",
       "    <tr>\n",
       "      <th>2</th>\n",
       "      <td>3.0</td>\n",
       "      <td>11.0</td>\n",
       "      <td>18.0</td>\n",
       "    </tr>\n",
       "    <tr>\n",
       "      <th>3</th>\n",
       "      <td>3.0</td>\n",
       "      <td>9.0</td>\n",
       "      <td>20.0</td>\n",
       "    </tr>\n",
       "    <tr>\n",
       "      <th>4</th>\n",
       "      <td>5.0</td>\n",
       "      <td>9.5</td>\n",
       "      <td>20.5</td>\n",
       "    </tr>\n",
       "  </tbody>\n",
       "</table>\n",
       "</div>"
      ],
      "text/plain": [
       "   lugs_1989  lugs_1990  target\n",
       "0        1.0        5.0     9.5\n",
       "1        3.0        8.0    17.5\n",
       "2        3.0       11.0    18.0\n",
       "3        3.0        9.0    20.0\n",
       "4        5.0        9.5    20.5"
      ]
     },
     "execution_count": 36,
     "metadata": {},
     "output_type": "execute_result"
    }
   ],
   "source": [
    "vineyard = pd.read_csv(\"https://github.com/EpistasisLab/pmlb/raw/refs/heads/master/datasets/192_vineyard/192_vineyard.tsv.gz\", sep=\"\\t\")\n",
    "vineyard.head()"
   ]
  },
  {
   "cell_type": "code",
   "execution_count": 57,
   "metadata": {},
   "outputs": [
    {
     "data": {
      "text/html": [
       "<div>\n",
       "<style scoped>\n",
       "    .dataframe tbody tr th:only-of-type {\n",
       "        vertical-align: middle;\n",
       "    }\n",
       "\n",
       "    .dataframe tbody tr th {\n",
       "        vertical-align: top;\n",
       "    }\n",
       "\n",
       "    .dataframe thead th {\n",
       "        text-align: right;\n",
       "    }\n",
       "</style>\n",
       "<table border=\"1\" class=\"dataframe\">\n",
       "  <thead>\n",
       "    <tr style=\"text-align: right;\">\n",
       "      <th></th>\n",
       "      <th>lugs_1989</th>\n",
       "      <th>lugs_1990</th>\n",
       "    </tr>\n",
       "  </thead>\n",
       "  <tbody>\n",
       "    <tr>\n",
       "      <th>0</th>\n",
       "      <td>1.0</td>\n",
       "      <td>5.0</td>\n",
       "    </tr>\n",
       "    <tr>\n",
       "      <th>1</th>\n",
       "      <td>3.0</td>\n",
       "      <td>8.0</td>\n",
       "    </tr>\n",
       "    <tr>\n",
       "      <th>2</th>\n",
       "      <td>3.0</td>\n",
       "      <td>11.0</td>\n",
       "    </tr>\n",
       "    <tr>\n",
       "      <th>3</th>\n",
       "      <td>3.0</td>\n",
       "      <td>9.0</td>\n",
       "    </tr>\n",
       "    <tr>\n",
       "      <th>4</th>\n",
       "      <td>5.0</td>\n",
       "      <td>9.5</td>\n",
       "    </tr>\n",
       "  </tbody>\n",
       "</table>\n",
       "</div>"
      ],
      "text/plain": [
       "   lugs_1989  lugs_1990\n",
       "0        1.0        5.0\n",
       "1        3.0        8.0\n",
       "2        3.0       11.0\n",
       "3        3.0        9.0\n",
       "4        5.0        9.5"
      ]
     },
     "execution_count": 57,
     "metadata": {},
     "output_type": "execute_result"
    }
   ],
   "source": [
    "vineyard_inputs = vineyard[[\"lugs_1989\", \"lugs_1990\"]]\n",
    "vineyard_inputs.head()"
   ]
  },
  {
   "cell_type": "code",
   "execution_count": 58,
   "metadata": {},
   "outputs": [],
   "source": [
    "vineyard_target = vineyard[\"target\"]"
   ]
  },
  {
   "cell_type": "markdown",
   "metadata": {},
   "source": [
    "## Problems"
   ]
  },
  {
   "cell_type": "markdown",
   "metadata": {},
   "source": [
    "### Problem 1 (3 points)\n",
    "\n",
    "Set `p1` to the value of $x$ after solving the following system of linear equations.\n",
    "\n",
    "\\begin{array}{rcl}\n",
    "3x & = & 4.2 \\\\\n",
    "\\end{array}\n"
   ]
  },
  {
   "cell_type": "code",
   "execution_count": 18,
   "metadata": {},
   "outputs": [],
   "source": [
    "# YOUR CHANGES HERE\n",
    "\n",
    "p1 = ..."
   ]
  },
  {
   "cell_type": "code",
   "execution_count": 19,
   "metadata": {},
   "outputs": [
    {
     "data": {
      "text/plain": [
       "Ellipsis"
      ]
     },
     "execution_count": 19,
     "metadata": {},
     "output_type": "execute_result"
    }
   ],
   "source": [
    "p1"
   ]
  },
  {
   "cell_type": "markdown",
   "metadata": {},
   "source": [
    "### Problem 2 (3 points)\n",
    "\n",
    "Set `p2` to be a tuple of `(x, y)` where $x$ and $y$ are the solution to the following system of linear equations.\n",
    "\n",
    "\\begin{array}{rcl}\n",
    "3x + 2y & = & 8.6 \\\\\n",
    "2x + 5y & = & 13.8 \\\\\n",
    "\\end{array}\n"
   ]
  },
  {
   "cell_type": "markdown",
   "metadata": {},
   "source": [
    "Hint: Just do this by hand."
   ]
  },
  {
   "cell_type": "code",
   "execution_count": 20,
   "metadata": {},
   "outputs": [],
   "source": [
    "# YOUR CHANGES HERE\n",
    "\n",
    "p2 = ..."
   ]
  },
  {
   "cell_type": "code",
   "execution_count": 21,
   "metadata": {},
   "outputs": [
    {
     "data": {
      "text/plain": [
       "Ellipsis"
      ]
     },
     "execution_count": 21,
     "metadata": {},
     "output_type": "execute_result"
    }
   ],
   "source": [
    "p2"
   ]
  },
  {
   "cell_type": "markdown",
   "metadata": {},
   "source": [
    "### Problem 3 (3 points)\n",
    "\n",
    "Set `p3` to be the x intercept of the following equation.\n",
    "\n",
    "\\begin{array}{rcl}\n",
    "4x + 2y + 3z & = & 12 \\\\\n",
    "\\end{array}"
   ]
  },
  {
   "cell_type": "code",
   "execution_count": null,
   "metadata": {},
   "outputs": [],
   "source": [
    "# YOUR CHANGES HERE\n",
    "\n",
    "p3 = ..."
   ]
  },
  {
   "cell_type": "code",
   "execution_count": null,
   "metadata": {},
   "outputs": [],
   "source": [
    "p3"
   ]
  },
  {
   "cell_type": "markdown",
   "metadata": {},
   "source": [
    "### Problem 4 (3 points)\n",
    "\n",
    "Set `p4` to be the sum of the 5 axis intercepts of the following equation.\n",
    "\n",
    "\\begin{array}{rcl}\n",
    "9a + 4b + 27c + 6d + 3e & = & 36 \\\\\n",
    "\\end{array}"
   ]
  },
  {
   "cell_type": "code",
   "execution_count": null,
   "metadata": {},
   "outputs": [],
   "source": [
    "# YOUR CHANGES HERE\n",
    "\n",
    "p4 = ..."
   ]
  },
  {
   "cell_type": "code",
   "execution_count": null,
   "metadata": {},
   "outputs": [],
   "source": [
    "p4"
   ]
  },
  {
   "cell_type": "markdown",
   "metadata": {},
   "source": [
    "### Problem 5 (3 points)\n",
    "\n",
    "Set `p5` to the augmented matrix of the following system of linear equations.\n",
    "\n",
    "\\begin{array}{rcl}\n",
    "3x + 2y + 13z = 10 \\\\\n",
    "7x + 2y - 13z = 23 \\\\\n",
    "\\end{array}"
   ]
  },
  {
   "cell_type": "code",
   "execution_count": null,
   "metadata": {},
   "outputs": [],
   "source": [
    "# YOUR CHANGES HERE\n",
    "\n",
    "p5 = ..."
   ]
  },
  {
   "cell_type": "code",
   "execution_count": null,
   "metadata": {},
   "outputs": [],
   "source": [
    "p5"
   ]
  },
  {
   "cell_type": "markdown",
   "metadata": {},
   "source": [
    "### Problem 6 (4 points)\n",
    "\n",
    "Set `p6` to the rank of the following system of linear equations?\n",
    "\n",
    "\\begin{array}{rcl}\n",
    "3x + 2y + 0z = 3 \\\\\n",
    "2x + 3y + 1z = 5 \\\\\n",
    "5x + 5y + 5z = 20 \\\\\n",
    "\\end{array}"
   ]
  },
  {
   "cell_type": "code",
   "execution_count": null,
   "metadata": {},
   "outputs": [],
   "source": [
    "# YOUR CHANGES HERE\n",
    "\n",
    "p6 = ..."
   ]
  },
  {
   "cell_type": "code",
   "execution_count": null,
   "metadata": {},
   "outputs": [],
   "source": [
    "p6"
   ]
  },
  {
   "cell_type": "markdown",
   "metadata": {},
   "source": [
    "### Problem 7 (4 points)\n",
    "\n",
    "Consider the following system of linear equations.\n",
    "\n",
    "\\begin{array}{rcl}\n",
    "3x + 2y + 0z = 3 \\\\\n",
    "2x + 3y + 1z = 5 \\\\\n",
    "5x + 5y + 5z = 20 \\\\\n",
    "\\end{array}\n",
    "\n",
    "This system could be rewritten as \n",
    "\\begin{array}{rcl}\n",
    "\\mathbf{A}\n",
    "\\begin{bmatrix}\n",
    "x \\\\ y \\\\ z \\\\\n",
    "\\end{bmatrix}\n",
    "& = &\n",
    "\\begin{bmatrix}\n",
    "3 \\\\ 5 \\\\ 20 \\\\\n",
    "\\end{bmatrix}\n",
    "\\end{array}\n",
    "\n",
    "Set `p7` to $\\mathbf{A}$."
   ]
  },
  {
   "cell_type": "code",
   "execution_count": null,
   "metadata": {},
   "outputs": [],
   "source": [
    "# YOUR CHANGES HERE\n",
    "\n",
    "p7 = ..."
   ]
  },
  {
   "cell_type": "code",
   "execution_count": null,
   "metadata": {},
   "outputs": [],
   "source": [
    "p7"
   ]
  },
  {
   "cell_type": "markdown",
   "metadata": {},
   "source": [
    "### Problem 8 (4 points)\n",
    "\n",
    "Set `p8` to the number of free variables in the following system of linear equations.\n",
    "\n",
    "\\begin{array}{rcl}\n",
    "x + 3y + 4z = 3 \\\\\n",
    "0x + 0y + 1z = 2 \\\\\n",
    "x + 3y + 5z = 5 \\\\\n",
    "\\end{array}"
   ]
  },
  {
   "cell_type": "code",
   "execution_count": null,
   "metadata": {},
   "outputs": [],
   "source": [
    "# YOUR CHANGES HERE\n",
    "\n",
    "p8 = ..."
   ]
  },
  {
   "cell_type": "code",
   "execution_count": null,
   "metadata": {},
   "outputs": [],
   "source": [
    "p8"
   ]
  },
  {
   "cell_type": "markdown",
   "metadata": {},
   "source": [
    "### Problem 9 (4 points)\n",
    "\n",
    "Set `p9` to any solution `(x, y, z)` to the following system of linear equations.\n",
    "\n",
    "\\begin{array}{rcl}\n",
    "2x + 4y + 0z = 16 \\\\\n",
    "1x + 3y + 1z = 16 \\\\\n",
    "3x + 0y + 0z = 6 \\\\\n",
    "\\end{array}"
   ]
  },
  {
   "cell_type": "code",
   "execution_count": null,
   "metadata": {},
   "outputs": [],
   "source": [
    "# YOUR CHANGES HERE\n",
    "\n",
    "p9 = ..."
   ]
  },
  {
   "cell_type": "code",
   "execution_count": null,
   "metadata": {},
   "outputs": [],
   "source": [
    "p9"
   ]
  },
  {
   "cell_type": "markdown",
   "metadata": {},
   "source": [
    "### Problem 10 (4 points)\n",
    "\n",
    "Set `p10` to any solution `(x, y, z)` to the following system of linear equations.\n",
    "\n",
    "\\begin{array}{rcl}\n",
    "x + 3y + 0z = 3 \\\\\n",
    "0x + 0y + 1z = 2 \\\\\n",
    "\\end{array}"
   ]
  },
  {
   "cell_type": "markdown",
   "metadata": {},
   "source": [
    "Hint: these equations are in reduced row echelon form, so there are shortcuts to picking solutions."
   ]
  },
  {
   "cell_type": "code",
   "execution_count": null,
   "metadata": {},
   "outputs": [],
   "source": [
    "# YOUR CHANGES HERE\n",
    "\n",
    "p10 = ..."
   ]
  },
  {
   "cell_type": "code",
   "execution_count": null,
   "metadata": {},
   "outputs": [],
   "source": [
    "p10"
   ]
  },
  {
   "cell_type": "markdown",
   "metadata": {},
   "source": [
    "### Problem 11 (4 points)\n",
    "\n",
    "Set `p11` to be a tuple or list of the average yields in the vineyard data set for 1989, 1990, and 1991 in that order."
   ]
  },
  {
   "cell_type": "code",
   "execution_count": null,
   "metadata": {},
   "outputs": [],
   "source": [
    "# YOUR CHANGES HERE\n",
    "\n",
    "p11 = ..."
   ]
  },
  {
   "cell_type": "code",
   "execution_count": null,
   "metadata": {},
   "outputs": [],
   "source": [
    "p11"
   ]
  },
  {
   "cell_type": "markdown",
   "metadata": {},
   "source": [
    "### Problem 12 (4 points)\n",
    "\n",
    "Set `p12` to the 95th percentile of the data in `q12`."
   ]
  },
  {
   "cell_type": "code",
   "execution_count": 22,
   "metadata": {},
   "outputs": [],
   "source": [
    "# DO NOT CHANGE\n",
    "\n",
    "q12 = np.array([3.44857705, 2.09151799, 4.98803337, 3.8649001 , 1.20265499,\n",
    "       3.89903439, 3.05276698, 0.92826333, 3.20371215, 1.81124845,\n",
    "       3.53150155, 2.32418747, 1.81826697, 3.50670706, 1.37181554,\n",
    "       2.95770001, 3.80008758, 2.65923837, 2.83248683, 2.91306525,\n",
    "       2.18314379, 2.17931002, 2.9086665 , 3.26098354, 3.24755896,\n",
    "       1.01129371, 4.56540725, 3.05517241, 2.32079938, 3.39392893,\n",
    "       3.3886077 , 3.38112083, 3.88523072, 3.13214221, 3.73298754,\n",
    "       4.11129171, 2.74133096, 2.4825709 , 3.21885293, 4.08327916,\n",
    "       2.82768517, 2.1188981 , 3.45886466, 4.20440619, 2.25038228,\n",
    "       1.59150786, 2.24486543, 3.49914959, 3.72254599, 1.84068517])"
   ]
  },
  {
   "cell_type": "code",
   "execution_count": 23,
   "metadata": {},
   "outputs": [],
   "source": [
    "# YOUR ANSWER HERE\n",
    "\n",
    "p12 = ..."
   ]
  },
  {
   "cell_type": "code",
   "execution_count": 24,
   "metadata": {},
   "outputs": [
    {
     "data": {
      "text/plain": [
       "Ellipsis"
      ]
     },
     "execution_count": 24,
     "metadata": {},
     "output_type": "execute_result"
    }
   ],
   "source": [
    "p12"
   ]
  },
  {
   "cell_type": "markdown",
   "metadata": {},
   "source": [
    "### Problem 13 (4 points)\n",
    "\n",
    "Set `p13` to the average $L_1$ loss using the average of 1989 and 1990 vineyard yields per row to predict 1991 yields per row."
   ]
  },
  {
   "cell_type": "code",
   "execution_count": null,
   "metadata": {},
   "outputs": [],
   "source": [
    "# YOUR CHANGES HERE\n",
    "\n",
    "p13 = ..."
   ]
  },
  {
   "cell_type": "code",
   "execution_count": null,
   "metadata": {},
   "outputs": [],
   "source": [
    "p13"
   ]
  },
  {
   "cell_type": "markdown",
   "metadata": {},
   "source": [
    "### Problem 14 (4 points)\n",
    "\n",
    "Build a linear regression trained with `vineyard_inputs` as its input and `vineyard_target` as its target output. Set `p14` as the output of that regression with `vineyard_inputs` as its input."
   ]
  },
  {
   "cell_type": "code",
   "execution_count": 27,
   "metadata": {},
   "outputs": [],
   "source": [
    "# YOUR CHANGES HERE\n",
    "\n",
    "p14 = ..."
   ]
  },
  {
   "cell_type": "code",
   "execution_count": 28,
   "metadata": {},
   "outputs": [
    {
     "data": {
      "text/plain": [
       "Ellipsis"
      ]
     },
     "execution_count": 28,
     "metadata": {},
     "output_type": "execute_result"
    }
   ],
   "source": [
    "p14"
   ]
  },
  {
   "cell_type": "markdown",
   "metadata": {},
   "source": [
    "### Problem 15 (4 points)\n",
    "\n",
    "Given the following data, set `p15` to the weighted variance of \n",
    "\n",
    "| Color | Shape | Score | Probability |\n",
    "|---|---|---|---:|\n",
    "| red | square | 3 | 0.250 |\n",
    "| blue | circle | 4 | 0.125 |\n",
    "| purple | line | 2 | 0.125 |\n",
    "| purple | diamond | 5 | 0.25 |\n",
    "| blue | triangle | 3 | 0.25 |"
   ]
  },
  {
   "cell_type": "code",
   "execution_count": null,
   "metadata": {},
   "outputs": [],
   "source": [
    "# YOUR CHANGES HERE\n",
    "\n",
    "p15 = ..."
   ]
  },
  {
   "cell_type": "code",
   "execution_count": null,
   "metadata": {},
   "outputs": [],
   "source": [
    "p15"
   ]
  },
  {
   "cell_type": "markdown",
   "metadata": {},
   "source": [
    "### Problem 16 (4 points)\n",
    "\n",
    "Set `p16` to be the correlation between the 1989 and 1990 yields in the vineyard data set."
   ]
  },
  {
   "cell_type": "code",
   "execution_count": null,
   "metadata": {},
   "outputs": [],
   "source": [
    "# YOUR CHANGES HERE\n",
    "\n",
    "p16 = ..."
   ]
  },
  {
   "cell_type": "code",
   "execution_count": null,
   "metadata": {},
   "outputs": [],
   "source": [
    "p16"
   ]
  },
  {
   "cell_type": "markdown",
   "metadata": {},
   "source": [
    "### Problem 17 (4 points)\n",
    "\n",
    "Compute the sample mean and variance of the 1990 vineyard yields.\n",
    "Assuming that the yields follow a normal distribution with your computed parameters, what would the one-sided p-value of a yield of 13 lugs be?"
   ]
  },
  {
   "cell_type": "markdown",
   "metadata": {},
   "source": [
    "Hint: use the [SciPy stats module](https://docs.scipy.org/doc/scipy/reference/stats.html) to calculate the p-values from the distribution."
   ]
  },
  {
   "cell_type": "code",
   "execution_count": null,
   "metadata": {},
   "outputs": [],
   "source": [
    "# YOUR CHANGES HERE\n",
    "\n",
    "p17 = ..."
   ]
  },
  {
   "cell_type": "code",
   "execution_count": null,
   "metadata": {},
   "outputs": [],
   "source": [
    "p17"
   ]
  },
  {
   "cell_type": "markdown",
   "metadata": {},
   "source": [
    "### Problem 18 (4 points)\n",
    "\n",
    "Set `p18` to be the $2 \\times 3$ matrix full of question marks below, filled in with the following information.\n",
    "1. Each serving of noodles requires 1/2 cup of flour.\n",
    "2. Each serving of noodles requires 1/8 cup of water.\n",
    "3. Noodles do not need sugar.\n",
    "4. Each serving of cake requires 1/4 cup of flour.\n",
    "5. Each serving of cake requires 1/4 cup of sugar.\n",
    "6. Cake does not need water.\n",
    "\n",
    "\\begin{array}{rcl}\n",
    "\\begin{bmatrix}\n",
    "\\text{servings of noodles} & \\text{pieces of cake} \\\\\n",
    "\\end{bmatrix}\n",
    "\\begin{bmatrix}\n",
    "\\text{??} & \\text{??} & \\text{??} \\\\\n",
    "\\text{??} & \\text{??} & \\text{??} \\\\\n",
    "\\end{bmatrix}\n",
    "& = &\n",
    "\\begin{bmatrix}\n",
    "\\text{flour needed} & \\text{sugar needed} & \\text{water needed} \\\\\n",
    "\\end{bmatrix}\n",
    "\\end{array}"
   ]
  },
  {
   "cell_type": "code",
   "execution_count": null,
   "metadata": {},
   "outputs": [],
   "source": [
    "# YOUR CHANGES HERE\n",
    "\n",
    "p18 = ..."
   ]
  },
  {
   "cell_type": "code",
   "execution_count": null,
   "metadata": {},
   "outputs": [],
   "source": [
    "p18"
   ]
  },
  {
   "cell_type": "markdown",
   "metadata": {},
   "source": [
    "### Problem 19 (4 points)\n",
    "\n",
    "Set `p19` to be the cosine similarity of the vectors `x19` and `y19`.\n"
   ]
  },
  {
   "cell_type": "code",
   "execution_count": 29,
   "metadata": {},
   "outputs": [
    {
     "data": {
      "text/plain": [
       "[0.4, 0.2, -0.5]"
      ]
     },
     "execution_count": 29,
     "metadata": {},
     "output_type": "execute_result"
    }
   ],
   "source": [
    "# DO NOT CHANGE\n",
    "\n",
    "x19 = [0.4, 0.2, -0.5]\n",
    "x19"
   ]
  },
  {
   "cell_type": "code",
   "execution_count": 30,
   "metadata": {},
   "outputs": [
    {
     "data": {
      "text/plain": [
       "[-0.3, -0.2, 0.4]"
      ]
     },
     "execution_count": 30,
     "metadata": {},
     "output_type": "execute_result"
    }
   ],
   "source": [
    "# DO NOT CHANGE\n",
    "\n",
    "y19 = [-0.3, -0.2, 0.4]\n",
    "y19"
   ]
  },
  {
   "cell_type": "code",
   "execution_count": 31,
   "metadata": {},
   "outputs": [],
   "source": [
    "# YOUR CHANGES HERE\n",
    "\n",
    "p19 = ..."
   ]
  },
  {
   "cell_type": "code",
   "execution_count": 32,
   "metadata": {},
   "outputs": [
    {
     "data": {
      "text/plain": [
       "Ellipsis"
      ]
     },
     "execution_count": 32,
     "metadata": {},
     "output_type": "execute_result"
    }
   ],
   "source": [
    "p19"
   ]
  },
  {
   "cell_type": "markdown",
   "metadata": {},
   "source": [
    "### Problem 20 (4 points)\n",
    "\n",
    "Set `p20` to the reduced row echelon form of `q20`.\n"
   ]
  },
  {
   "cell_type": "code",
   "execution_count": 33,
   "metadata": {},
   "outputs": [],
   "source": [
    "# DO NOT CHANGE\n",
    "\n",
    "q20 = np.array([[2., 5., -3., 2.0],\n",
    "                [-2, 1, 3, -2],\n",
    "                [ 4.,  1.,  0., 16.]])"
   ]
  },
  {
   "cell_type": "code",
   "execution_count": 34,
   "metadata": {},
   "outputs": [],
   "source": [
    "# YOUR CHANGES HERE\n",
    "\n",
    "p20 = ..."
   ]
  },
  {
   "cell_type": "code",
   "execution_count": 35,
   "metadata": {},
   "outputs": [
    {
     "data": {
      "text/plain": [
       "Ellipsis"
      ]
     },
     "execution_count": 35,
     "metadata": {},
     "output_type": "execute_result"
    }
   ],
   "source": [
    "p20"
   ]
  },
  {
   "cell_type": "markdown",
   "metadata": {},
   "source": [
    "### Generative AI Usage\n",
    "\n",
    "If you used any generative AI tools, please add links to your transcripts below, and any other information that you feel is necessary to comply with the [generative AI policy](https://www.bu.edu/cds-faculty/culture-community/gaia-policy/).\n",
    "If you did not use any generative AI tools, simply write NONE below."
   ]
  },
  {
   "cell_type": "markdown",
   "metadata": {},
   "source": [
    "YOUR CHANGES HERE"
   ]
  }
 ],
 "metadata": {
  "kernelspec": {
   "display_name": "Python 3",
   "language": "python",
   "name": "python3"
  },
  "language_info": {
   "codemirror_mode": {
    "name": "ipython",
    "version": 3
   },
   "file_extension": ".py",
   "mimetype": "text/x-python",
   "name": "python",
   "nbconvert_exporter": "python",
   "pygments_lexer": "ipython3",
   "version": "3.13.0"
  }
 },
 "nbformat": 4,
 "nbformat_minor": 2
}
